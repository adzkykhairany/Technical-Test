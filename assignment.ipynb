{
 "cells": [
  {
   "cell_type": "code",
   "execution_count": 17,
   "metadata": {},
   "outputs": [],
   "source": [
    "# library imports\n",
    "import pandas as pd"
   ]
  },
  {
   "cell_type": "code",
   "execution_count": 22,
   "metadata": {},
   "outputs": [
    {
     "name": "stdout",
     "output_type": "stream",
     "text": [
      "<class 'pandas.core.frame.DataFrame'>\n",
      "RangeIndex: 156 entries, 0 to 155\n",
      "Data columns (total 7 columns):\n",
      " #   Column                  Non-Null Count  Dtype  \n",
      "---  ------                  --------------  -----  \n",
      " 0   ga:sourceMedium         156 non-null    object \n",
      " 1   ga:pageTitle            156 non-null    object \n",
      " 2   ga:users                155 non-null    float64\n",
      " 3   ga:bounceRate           155 non-null    float64\n",
      " 4   ga:pageviews            155 non-null    float64\n",
      " 5   ga:pageviewsPerSession  155 non-null    float64\n",
      " 6   ga:avgTimeOnPage        155 non-null    float64\n",
      "dtypes: float64(5), object(2)\n",
      "memory usage: 8.7+ KB\n"
     ]
    },
    {
     "data": {
      "text/html": [
       "<div>\n",
       "<style scoped>\n",
       "    .dataframe tbody tr th:only-of-type {\n",
       "        vertical-align: middle;\n",
       "    }\n",
       "\n",
       "    .dataframe tbody tr th {\n",
       "        vertical-align: top;\n",
       "    }\n",
       "\n",
       "    .dataframe thead th {\n",
       "        text-align: right;\n",
       "    }\n",
       "</style>\n",
       "<table border=\"1\" class=\"dataframe\">\n",
       "  <thead>\n",
       "    <tr style=\"text-align: right;\">\n",
       "      <th></th>\n",
       "      <th>ga:sourceMedium</th>\n",
       "      <th>ga:pageTitle</th>\n",
       "      <th>ga:users</th>\n",
       "      <th>ga:bounceRate</th>\n",
       "      <th>ga:pageviews</th>\n",
       "      <th>ga:pageviewsPerSession</th>\n",
       "      <th>ga:avgTimeOnPage</th>\n",
       "    </tr>\n",
       "  </thead>\n",
       "  <tbody>\n",
       "    <tr>\n",
       "      <th>0</th>\n",
       "      <td>facebook / cpc</td>\n",
       "      <td>Bikin Lambe Turah Diomelin, Nih Si Seksi yang ...</td>\n",
       "      <td>13736.0</td>\n",
       "      <td>19.269967</td>\n",
       "      <td>83593.0</td>\n",
       "      <td>6.042140</td>\n",
       "      <td>21.790189</td>\n",
       "    </tr>\n",
       "    <tr>\n",
       "      <th>1</th>\n",
       "      <td>facebook / cpc</td>\n",
       "      <td>Heboh! Kiki Farel Transfer Uang Jajan Rp 1 Jut...</td>\n",
       "      <td>15909.0</td>\n",
       "      <td>62.303763</td>\n",
       "      <td>74032.0</td>\n",
       "      <td>4.612011</td>\n",
       "      <td>16.330553</td>\n",
       "    </tr>\n",
       "    <tr>\n",
       "      <th>2</th>\n",
       "      <td>facebook / cpc</td>\n",
       "      <td>Tak Sesuai Harapan, Barang Belanja Online Ini ...</td>\n",
       "      <td>7748.0</td>\n",
       "      <td>30.934520</td>\n",
       "      <td>54657.0</td>\n",
       "      <td>6.949396</td>\n",
       "      <td>21.429338</td>\n",
       "    </tr>\n",
       "    <tr>\n",
       "      <th>3</th>\n",
       "      <td>facebook / cpc</td>\n",
       "      <td>Antar 'Tuyul', 7 Pengemudi Grab Dibekuk</td>\n",
       "      <td>43893.0</td>\n",
       "      <td>6.966219</td>\n",
       "      <td>47924.0</td>\n",
       "      <td>1.106560</td>\n",
       "      <td>5.056397</td>\n",
       "    </tr>\n",
       "    <tr>\n",
       "      <th>4</th>\n",
       "      <td>facebook / cpc</td>\n",
       "      <td>Melihat Kantor Pelayanan Grab Driver Center</td>\n",
       "      <td>41155.0</td>\n",
       "      <td>11.630219</td>\n",
       "      <td>44072.0</td>\n",
       "      <td>43.809145</td>\n",
       "      <td>180.944233</td>\n",
       "    </tr>\n",
       "  </tbody>\n",
       "</table>\n",
       "</div>"
      ],
      "text/plain": [
       "  ga:sourceMedium                                       ga:pageTitle  \\\n",
       "0  facebook / cpc  Bikin Lambe Turah Diomelin, Nih Si Seksi yang ...   \n",
       "1  facebook / cpc  Heboh! Kiki Farel Transfer Uang Jajan Rp 1 Jut...   \n",
       "2  facebook / cpc  Tak Sesuai Harapan, Barang Belanja Online Ini ...   \n",
       "3  facebook / cpc            Antar 'Tuyul', 7 Pengemudi Grab Dibekuk   \n",
       "4  facebook / cpc        Melihat Kantor Pelayanan Grab Driver Center   \n",
       "\n",
       "   ga:users  ga:bounceRate  ga:pageviews  ga:pageviewsPerSession  \\\n",
       "0   13736.0      19.269967       83593.0                6.042140   \n",
       "1   15909.0      62.303763       74032.0                4.612011   \n",
       "2    7748.0      30.934520       54657.0                6.949396   \n",
       "3   43893.0       6.966219       47924.0                1.106560   \n",
       "4   41155.0      11.630219       44072.0               43.809145   \n",
       "\n",
       "   ga:avgTimeOnPage  \n",
       "0         21.790189  \n",
       "1         16.330553  \n",
       "2         21.429338  \n",
       "3          5.056397  \n",
       "4        180.944233  "
      ]
     },
     "execution_count": 22,
     "metadata": {},
     "output_type": "execute_result"
    }
   ],
   "source": [
    "# read the data\n",
    "data = pd.read_csv('assets/Assignment Data Analyst MSIB Batch 7.csv')\n",
    "\n",
    "# check the data types\n",
    "data.info()\n",
    "\n",
    "# check the first 5 rows\n",
    "data.head()"
   ]
  },
  {
   "cell_type": "code",
   "execution_count": 24,
   "metadata": {},
   "outputs": [
    {
     "name": "stdout",
     "output_type": "stream",
     "text": [
      "\n",
      "Jumlah baris awal: 156\n",
      "Jumlah baris setelah pembersihan: 155\n",
      "Jumlah baris yang dihapus: 1\n"
     ]
    }
   ],
   "source": [
    "# renaming columns\n",
    "data.columns = ['sourceMedium', 'pageTitle', 'users', 'bounceRate', 'pageviews', 'pageviewsPerSession', 'avgTimeOnPage']\n",
    "\n",
    "# removing rows with missing values\n",
    "df_cleaned = data.dropna()\n",
    "\n",
    "# save the rows before and after cleaning\n",
    "initial_row_count = data.shape[0]\n",
    "final_row_count = df_cleaned.shape[0]\n",
    "\n",
    "# count the rows that are deleted\n",
    "rows_deleted = initial_row_count - final_row_count\n",
    "\n",
    "# print the results\n",
    "print(f\"\\nJumlah baris awal: {initial_row_count}\")\n",
    "print(f\"Jumlah baris setelah pembersihan: {final_row_count}\")\n",
    "print(f\"Jumlah baris yang dihapus: {rows_deleted}\")"
   ]
  },
  {
   "cell_type": "code",
   "execution_count": 29,
   "metadata": {},
   "outputs": [
    {
     "name": "stdout",
     "output_type": "stream",
     "text": [
      "Jumlah baris duplikat: 0\n"
     ]
    }
   ],
   "source": [
    "# check for duplicates\n",
    "duplicates = df_cleaned[df_cleaned.duplicated()]\n",
    "\n",
    "# print the results\n",
    "print(f\"Jumlah baris duplikat: {duplicates.shape[0]}\")"
   ]
  },
  {
   "cell_type": "code",
   "execution_count": null,
   "metadata": {},
   "outputs": [],
   "source": []
  }
 ],
 "metadata": {
  "kernelspec": {
   "display_name": "Python 3",
   "language": "python",
   "name": "python3"
  },
  "language_info": {
   "codemirror_mode": {
    "name": "ipython",
    "version": 3
   },
   "file_extension": ".py",
   "mimetype": "text/x-python",
   "name": "python",
   "nbconvert_exporter": "python",
   "pygments_lexer": "ipython3",
   "version": "3.12.5"
  }
 },
 "nbformat": 4,
 "nbformat_minor": 2
}
