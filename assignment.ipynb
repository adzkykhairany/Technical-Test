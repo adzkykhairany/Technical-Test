{
 "cells": [
  {
   "cell_type": "markdown",
   "metadata": {},
   "source": [
    "## Library"
   ]
  },
  {
   "cell_type": "code",
   "execution_count": 13,
   "metadata": {},
   "outputs": [],
   "source": [
    "import pandas as pd\n",
    "import seaborn as sns\n",
    "import matplotlib.pyplot as plt\n",
    "import seaborn as sns"
   ]
  },
  {
   "cell_type": "markdown",
   "metadata": {},
   "source": [
    "## Dataset"
   ]
  },
  {
   "cell_type": "code",
   "execution_count": 14,
   "metadata": {},
   "outputs": [
    {
     "data": {
      "text/html": [
       "<div>\n",
       "<style scoped>\n",
       "    .dataframe tbody tr th:only-of-type {\n",
       "        vertical-align: middle;\n",
       "    }\n",
       "\n",
       "    .dataframe tbody tr th {\n",
       "        vertical-align: top;\n",
       "    }\n",
       "\n",
       "    .dataframe thead th {\n",
       "        text-align: right;\n",
       "    }\n",
       "</style>\n",
       "<table border=\"1\" class=\"dataframe\">\n",
       "  <thead>\n",
       "    <tr style=\"text-align: right;\">\n",
       "      <th></th>\n",
       "      <th>ga:sourceMedium</th>\n",
       "      <th>ga:pageTitle</th>\n",
       "      <th>ga:users</th>\n",
       "      <th>ga:bounceRate</th>\n",
       "      <th>ga:pageviews</th>\n",
       "      <th>ga:pageviewsPerSession</th>\n",
       "      <th>ga:avgTimeOnPage</th>\n",
       "    </tr>\n",
       "  </thead>\n",
       "  <tbody>\n",
       "    <tr>\n",
       "      <th>0</th>\n",
       "      <td>facebook / cpc</td>\n",
       "      <td>Bikin Lambe Turah Diomelin, Nih Si Seksi yang ...</td>\n",
       "      <td>13736.0</td>\n",
       "      <td>19.269967</td>\n",
       "      <td>83593.0</td>\n",
       "      <td>6.042140</td>\n",
       "      <td>21.790189</td>\n",
       "    </tr>\n",
       "    <tr>\n",
       "      <th>1</th>\n",
       "      <td>facebook / cpc</td>\n",
       "      <td>Heboh! Kiki Farel Transfer Uang Jajan Rp 1 Jut...</td>\n",
       "      <td>15909.0</td>\n",
       "      <td>62.303763</td>\n",
       "      <td>74032.0</td>\n",
       "      <td>4.612011</td>\n",
       "      <td>16.330553</td>\n",
       "    </tr>\n",
       "    <tr>\n",
       "      <th>2</th>\n",
       "      <td>facebook / cpc</td>\n",
       "      <td>Tak Sesuai Harapan, Barang Belanja Online Ini ...</td>\n",
       "      <td>7748.0</td>\n",
       "      <td>30.934520</td>\n",
       "      <td>54657.0</td>\n",
       "      <td>6.949396</td>\n",
       "      <td>21.429338</td>\n",
       "    </tr>\n",
       "    <tr>\n",
       "      <th>3</th>\n",
       "      <td>facebook / cpc</td>\n",
       "      <td>Antar 'Tuyul', 7 Pengemudi Grab Dibekuk</td>\n",
       "      <td>43893.0</td>\n",
       "      <td>6.966219</td>\n",
       "      <td>47924.0</td>\n",
       "      <td>1.106560</td>\n",
       "      <td>5.056397</td>\n",
       "    </tr>\n",
       "    <tr>\n",
       "      <th>4</th>\n",
       "      <td>facebook / cpc</td>\n",
       "      <td>Melihat Kantor Pelayanan Grab Driver Center</td>\n",
       "      <td>41155.0</td>\n",
       "      <td>11.630219</td>\n",
       "      <td>44072.0</td>\n",
       "      <td>43.809145</td>\n",
       "      <td>180.944233</td>\n",
       "    </tr>\n",
       "  </tbody>\n",
       "</table>\n",
       "</div>"
      ],
      "text/plain": [
       "  ga:sourceMedium                                       ga:pageTitle  \\\n",
       "0  facebook / cpc  Bikin Lambe Turah Diomelin, Nih Si Seksi yang ...   \n",
       "1  facebook / cpc  Heboh! Kiki Farel Transfer Uang Jajan Rp 1 Jut...   \n",
       "2  facebook / cpc  Tak Sesuai Harapan, Barang Belanja Online Ini ...   \n",
       "3  facebook / cpc            Antar 'Tuyul', 7 Pengemudi Grab Dibekuk   \n",
       "4  facebook / cpc        Melihat Kantor Pelayanan Grab Driver Center   \n",
       "\n",
       "   ga:users  ga:bounceRate  ga:pageviews  ga:pageviewsPerSession  \\\n",
       "0   13736.0      19.269967       83593.0                6.042140   \n",
       "1   15909.0      62.303763       74032.0                4.612011   \n",
       "2    7748.0      30.934520       54657.0                6.949396   \n",
       "3   43893.0       6.966219       47924.0                1.106560   \n",
       "4   41155.0      11.630219       44072.0               43.809145   \n",
       "\n",
       "   ga:avgTimeOnPage  \n",
       "0         21.790189  \n",
       "1         16.330553  \n",
       "2         21.429338  \n",
       "3          5.056397  \n",
       "4        180.944233  "
      ]
     },
     "execution_count": 14,
     "metadata": {},
     "output_type": "execute_result"
    }
   ],
   "source": [
    "# membaca dataset\n",
    "data = pd.read_csv('assets/data.csv')\n",
    "\n",
    "# menampilkan data teratas\n",
    "data.head()"
   ]
  },
  {
   "cell_type": "code",
   "execution_count": 15,
   "metadata": {},
   "outputs": [
    {
     "name": "stdout",
     "output_type": "stream",
     "text": [
      "<class 'pandas.core.frame.DataFrame'>\n",
      "RangeIndex: 156 entries, 0 to 155\n",
      "Data columns (total 7 columns):\n",
      " #   Column                  Non-Null Count  Dtype  \n",
      "---  ------                  --------------  -----  \n",
      " 0   ga:sourceMedium         156 non-null    object \n",
      " 1   ga:pageTitle            156 non-null    object \n",
      " 2   ga:users                155 non-null    float64\n",
      " 3   ga:bounceRate           155 non-null    float64\n",
      " 4   ga:pageviews            155 non-null    float64\n",
      " 5   ga:pageviewsPerSession  155 non-null    float64\n",
      " 6   ga:avgTimeOnPage        155 non-null    float64\n",
      "dtypes: float64(5), object(2)\n",
      "memory usage: 8.7+ KB\n"
     ]
    }
   ],
   "source": [
    "# menampilkan informasi dataset\n",
    "data.info()"
   ]
  },
  {
   "cell_type": "markdown",
   "metadata": {},
   "source": [
    "## Pre-processing"
   ]
  },
  {
   "cell_type": "code",
   "execution_count": 16,
   "metadata": {},
   "outputs": [],
   "source": [
    "# mengganti nama kolom\n",
    "data.columns = ['sourceMedium', 'pageTitle', 'users', 'bounceRate', 'pageviews', 'pageviewsPerSession', 'avgTimeOnPage']"
   ]
  },
  {
   "cell_type": "code",
   "execution_count": 17,
   "metadata": {},
   "outputs": [
    {
     "name": "stdout",
     "output_type": "stream",
     "text": [
      "\n",
      "Jumlah baris awal: 156\n",
      "Jumlah baris setelah pembersihan: 155\n",
      "Jumlah baris yang dihapus: 1\n"
     ]
    }
   ],
   "source": [
    "# menghapus data yang kosong\n",
    "df_cleaned = data.dropna()\n",
    "\n",
    "# menyimpan hasil pembersihan\n",
    "initial_row_count = data.shape[0]\n",
    "final_row_count = df_cleaned.shape[0]\n",
    "\n",
    "# menghitung jumlah baris yang dihapus\n",
    "rows_deleted = initial_row_count - final_row_count\n",
    "\n",
    "# memperlihatkan jumlah baris yang dihapus\n",
    "print(f\"\\nJumlah baris awal: {initial_row_count}\")\n",
    "print(f\"Jumlah baris setelah pembersihan: {final_row_count}\")\n",
    "print(f\"Jumlah baris yang dihapus: {rows_deleted}\")"
   ]
  },
  {
   "cell_type": "code",
   "execution_count": 18,
   "metadata": {},
   "outputs": [
    {
     "name": "stdout",
     "output_type": "stream",
     "text": [
      "Jumlah baris duplikat: 0\n"
     ]
    }
   ],
   "source": [
    "# mengecek duplikat data\n",
    "help = df_cleaned[df_cleaned.duplicated()]\n",
    "\n",
    "# memperlihatkan jumlah baris duplikat\n",
    "print(f\"Jumlah baris duplikat: {help.shape[0]}\")"
   ]
  },
  {
   "cell_type": "code",
   "execution_count": 19,
   "metadata": {},
   "outputs": [
    {
     "data": {
      "text/html": [
       "<div>\n",
       "<style scoped>\n",
       "    .dataframe tbody tr th:only-of-type {\n",
       "        vertical-align: middle;\n",
       "    }\n",
       "\n",
       "    .dataframe tbody tr th {\n",
       "        vertical-align: top;\n",
       "    }\n",
       "\n",
       "    .dataframe thead th {\n",
       "        text-align: right;\n",
       "    }\n",
       "</style>\n",
       "<table border=\"1\" class=\"dataframe\">\n",
       "  <thead>\n",
       "    <tr style=\"text-align: right;\">\n",
       "      <th></th>\n",
       "      <th>sourceMedium</th>\n",
       "      <th>pageTitle</th>\n",
       "      <th>users</th>\n",
       "      <th>bounceRate</th>\n",
       "      <th>pageviews</th>\n",
       "      <th>pageviewsPerSession</th>\n",
       "      <th>avgTimeOnPage</th>\n",
       "    </tr>\n",
       "  </thead>\n",
       "  <tbody>\n",
       "    <tr>\n",
       "      <th>0</th>\n",
       "      <td>facebook / cpc</td>\n",
       "      <td>Bikin Lambe Turah Diomelin, Nih Si Seksi yang ...</td>\n",
       "      <td>13736.0</td>\n",
       "      <td>19.269967</td>\n",
       "      <td>83593.0</td>\n",
       "      <td>6.042140</td>\n",
       "      <td>21.790189</td>\n",
       "    </tr>\n",
       "    <tr>\n",
       "      <th>1</th>\n",
       "      <td>facebook / cpc</td>\n",
       "      <td>Heboh! Kiki Farel Transfer Uang Jajan Rp 1 Jut...</td>\n",
       "      <td>15909.0</td>\n",
       "      <td>62.303763</td>\n",
       "      <td>74032.0</td>\n",
       "      <td>4.612011</td>\n",
       "      <td>16.330553</td>\n",
       "    </tr>\n",
       "    <tr>\n",
       "      <th>2</th>\n",
       "      <td>facebook / cpc</td>\n",
       "      <td>Tak Sesuai Harapan, Barang Belanja Online Ini ...</td>\n",
       "      <td>7748.0</td>\n",
       "      <td>30.934520</td>\n",
       "      <td>54657.0</td>\n",
       "      <td>6.949396</td>\n",
       "      <td>21.429338</td>\n",
       "    </tr>\n",
       "    <tr>\n",
       "      <th>3</th>\n",
       "      <td>facebook / cpc</td>\n",
       "      <td>Antar 'Tuyul', 7 Pengemudi Grab Dibekuk</td>\n",
       "      <td>43893.0</td>\n",
       "      <td>6.966219</td>\n",
       "      <td>47924.0</td>\n",
       "      <td>1.106560</td>\n",
       "      <td>5.056397</td>\n",
       "    </tr>\n",
       "    <tr>\n",
       "      <th>4</th>\n",
       "      <td>facebook / cpc</td>\n",
       "      <td>Melihat Kantor Pelayanan Grab Driver Center</td>\n",
       "      <td>41155.0</td>\n",
       "      <td>11.630219</td>\n",
       "      <td>44072.0</td>\n",
       "      <td>43.809145</td>\n",
       "      <td>180.944233</td>\n",
       "    </tr>\n",
       "  </tbody>\n",
       "</table>\n",
       "</div>"
      ],
      "text/plain": [
       "     sourceMedium                                          pageTitle    users  \\\n",
       "0  facebook / cpc  Bikin Lambe Turah Diomelin, Nih Si Seksi yang ...  13736.0   \n",
       "1  facebook / cpc  Heboh! Kiki Farel Transfer Uang Jajan Rp 1 Jut...  15909.0   \n",
       "2  facebook / cpc  Tak Sesuai Harapan, Barang Belanja Online Ini ...   7748.0   \n",
       "3  facebook / cpc            Antar 'Tuyul', 7 Pengemudi Grab Dibekuk  43893.0   \n",
       "4  facebook / cpc        Melihat Kantor Pelayanan Grab Driver Center  41155.0   \n",
       "\n",
       "   bounceRate  pageviews  pageviewsPerSession  avgTimeOnPage  \n",
       "0   19.269967    83593.0             6.042140      21.790189  \n",
       "1   62.303763    74032.0             4.612011      16.330553  \n",
       "2   30.934520    54657.0             6.949396      21.429338  \n",
       "3    6.966219    47924.0             1.106560       5.056397  \n",
       "4   11.630219    44072.0            43.809145     180.944233  "
      ]
     },
     "execution_count": 19,
     "metadata": {},
     "output_type": "execute_result"
    }
   ],
   "source": [
    "# memperlihatkan data setelah pembersihan\n",
    "data.head()"
   ]
  },
  {
   "cell_type": "markdown",
   "metadata": {},
   "source": [
    "## Analisis"
   ]
  },
  {
   "cell_type": "markdown",
   "metadata": {},
   "source": [
    "### Statistik Deskriptif"
   ]
  },
  {
   "cell_type": "code",
   "execution_count": 20,
   "metadata": {},
   "outputs": [
    {
     "name": "stdout",
     "output_type": "stream",
     "text": [
      "Statistik Deskriptif:\n",
      "               users  bounceRate     pageviews  pageviewsPerSession  \\\n",
      "count    155.000000  155.000000    155.000000           155.000000   \n",
      "mean    1995.722581   31.925982   3607.174194            16.204284   \n",
      "std     6449.314679   36.030184  11845.050364            32.522916   \n",
      "min        9.000000    0.000000    215.000000             0.000000   \n",
      "25%      108.000000    0.000000    287.000000             0.000000   \n",
      "50%      233.000000   17.070773    431.000000             2.353535   \n",
      "75%      458.000000   62.401881    826.000000            22.194444   \n",
      "max    43893.000000  100.000000  83593.000000           268.833333   \n",
      "\n",
      "       avgTimeOnPage  \n",
      "count     155.000000  \n",
      "mean       75.428357  \n",
      "std        77.975259  \n",
      "min         2.814915  \n",
      "25%        16.948403  \n",
      "50%        44.720930  \n",
      "75%       109.392803  \n",
      "max       449.897196  \n"
     ]
    }
   ],
   "source": [
    "# statistik deskriptif\n",
    "deskripsi = data.describe()\n",
    "print(\"Statistik Deskriptif:\\n\", deskripsi)"
   ]
  },
  {
   "cell_type": "markdown",
   "metadata": {},
   "source": [
    "### Jumlah Berdasarkan Source Medium"
   ]
  },
  {
   "cell_type": "code",
   "execution_count": 21,
   "metadata": {},
   "outputs": [
    {
     "data": {
      "image/png": "[encoded data removed]",
      "text/plain": [
       "<Figure size 1000x600 with 1 Axes>"
      ]
     },
     "metadata": {},
     "output_type": "display_data"
    }
   ],
   "source": [
    "# menghitung jumlah sourceMedium\n",
    "source_medium_count = data['sourceMedium'].value_counts()\n",
    "\n",
    "# membuat visualisasi\n",
    "plt.figure(figsize=(10, 6))\n",
    "ax = source_medium_count.plot(kind='bar', color='skyblue')\n",
    "plt.title('Jumlah Source Medium')\n",
    "plt.xlabel('Source Medium')\n",
    "plt.ylabel('Jumlah')\n",
    "plt.xticks(rotation=0)\n",
    "\n",
    "for i in ax.containers:\n",
    "    ax.bar_label(i)\n",
    "\n",
    "plt.show()"
   ]
  },
  {
   "cell_type": "markdown",
   "metadata": {},
   "source": [
    "### Jumlah Users Berdasarkan Source Medium"
   ]
  },
  {
   "cell_type": "code",
   "execution_count": 22,
   "metadata": {},
   "outputs": [
    {
     "data": {
      "image/png": "[encoded data removed]",
      "text/plain": [
       "<Figure size 1200x700 with 1 Axes>"
      ]
     },
     "metadata": {},
     "output_type": "display_data"
    }
   ],
   "source": [
    "# Menghitung total jumlah pengguna per sourceMedium\n",
    "source_medium_users = data.groupby('sourceMedium')['users'].sum()\n",
    "\n",
    "# Membuat bar chart\n",
    "plt.figure(figsize=(12, 7))\n",
    "ax = source_medium_users.plot(kind='bar', color='skyblue')\n",
    "plt.title('Total Jumlah Pengguna per Source Medium')\n",
    "plt.xlabel('Source Medium')\n",
    "plt.ylabel('Total Pengguna')\n",
    "plt.xticks(rotation=0)\n",
    "\n",
    "# Menambahkan label pada setiap bar\n",
    "for i in ax.containers:\n",
    "    ax.bar_label(i)\n",
    "\n",
    "plt.show()"
   ]
  },
  {
   "cell_type": "markdown",
   "metadata": {},
   "source": [
    "### Tingkat Bounce Rate berdasarkan Source Medium"
   ]
  },
  {
   "cell_type": "code",
   "execution_count": 23,
   "metadata": {},
   "outputs": [
    {
     "data": {
      "image/png": "[encoded data removed]",
      "text/plain": [
       "<Figure size 1200x800 with 1 Axes>"
      ]
     },
     "metadata": {},
     "output_type": "display_data"
    }
   ],
   "source": [
    "# Menghitung rata-rata bounce rate berdasarkan sumber lalu lintas\n",
    "source_bounce_rate = data.groupby('sourceMedium', as_index=False)['bounceRate'].mean()\n",
    "\n",
    "# Visualisasi\n",
    "plt.figure(figsize=(12, 8))\n",
    "ax = sns.barplot(x='sourceMedium', y='bounceRate', data=source_bounce_rate, color='skyblue')\n",
    "plt.title('Tingkat Bounce Rate berdasarkan Source Medium')\n",
    "plt.xlabel('Source Medium')\n",
    "plt.ylabel('Bounce Rate')\n",
    "plt.xticks(rotation=0)\n",
    "\n",
    "for i in ax.containers:\n",
    "    ax.bar_label(i)\n",
    "\n",
    "plt.show()"
   ]
  }
 ],
 "metadata": {
  "kernelspec": {
   "display_name": "Python 3",
   "language": "python",
   "name": "python3"
  },
  "language_info": {
   "codemirror_mode": {
    "name": "ipython",
    "version": 3
   },
   "file_extension": ".py",
   "mimetype": "text/x-python",
   "name": "python",
   "nbconvert_exporter": "python",
   "pygments_lexer": "ipython3",
   "version": "3.12.5"
  }
 },
 "nbformat": 4,
 "nbformat_minor": 2
}
